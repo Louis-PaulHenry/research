{
 "cells": [
  {
   "cell_type": "markdown",
   "id": "bb8bce88",
   "metadata": {},
   "source": [
    "# BQSKit Compilation with Error Mitigation\n",
    "\n",
    "In this tutorial we will describe how to use error mitigation capabilities from [Mitiq](https://mitiq.readthedocs.io/en/stable/), together with the compilation capabilities of [BQSKit](https://bqskit.lbl.gov/).\n",
    "\n",
    "Before getting started, run the following install commands to ensure you have the required python packages.\n",
    "- `pip install mitiq`\n",
    "- `pip install bqskit==0.3.0` (here we use an older version of `bqskit` in order to satisfy version requirements between the two packages)\n",
    "\n",
    "The main steps taken in this tutorial are:\n",
    "1. Generate a random circuit\n",
    "2. Compile it with `bqskit`\n",
    "3. Use error mitigation on the compiled circuit\n",
    "4. Compare the results obtained with and without error mitigation\n",
    "\n",
    "---\n",
    "\n",
    "To begin we import many of the required functions."
   ]
  },
  {
   "cell_type": "code",
   "execution_count": 1,
   "id": "f510eb13",
   "metadata": {},
   "outputs": [],
   "source": [
    "import mitiq\n",
    "import bqskit\n",
    "\n",
    "import cirq\n",
    "from cirq.contrib.qasm_import import circuit_from_qasm\n",
    "import numpy as np"
   ]
  },
  {
   "cell_type": "markdown",
   "id": "71267965",
   "metadata": {},
   "source": [
    "## Random circuit generation\n",
    "\n",
    "To begin, we use `cirq`'s [`random_circuit`](https://quantumai.google/reference/python/cirq/testing/random_circuit) function to generare a random circuit with specified qubit number, depth and density (which refers to the probability of an operation occuring at a given moment).\n",
    "Here we also use a random seed for reproducibility."
   ]
  },
  {
   "cell_type": "code",
   "execution_count": 2,
   "id": "51330ce3",
   "metadata": {},
   "outputs": [],
   "source": [
    "num_qubits = 3\n",
    "depth = 10\n",
    "density = 1\n",
    "RANDOM_SEED = 479\n",
    "\n",
    "random_circuit = cirq.testing.random_circuit(num_qubits, depth, density, random_state=RANDOM_SEED)"
   ]
  },
  {
   "cell_type": "code",
   "execution_count": 3,
   "id": "412f016e",
   "metadata": {},
   "outputs": [
    {
     "name": "stdout",
     "output_type": "stream",
     "text": [
      "                                          ┌──┐\n",
      "0: ───X───Z───Y───X───────────────iSwap─────@────H───Y───\n",
      "                  │               │         │\n",
      "1: ───S───X───────@───Y───iSwap───┼────────S┼────X───X───\n",
      "          │               │       │         │\n",
      "2: ───────@───S───Y───Y───iSwap───iSwap─────@────────────\n",
      "                                          └──┘\n"
     ]
    }
   ],
   "source": [
    "print(random_circuit)"
   ]
  },
  {
   "cell_type": "markdown",
   "id": "5b6979a5",
   "metadata": {},
   "source": [
    "We now write the circuit out to QASM for consumption by `bqskit`.\n",
    "Here we must remove the `// Generated from Cirq v1.0.0` comment at the beginning of the file to ensure `bqskit` can properly consume the operations described therein."
   ]
  },
  {
   "cell_type": "code",
   "execution_count": 4,
   "id": "9d902527",
   "metadata": {},
   "outputs": [],
   "source": [
    "qasm_code = cirq.qasm(random_circuit)\n",
    "with open('tmp.qasm', 'w') as f:\n",
    "    f.write(qasm_code[31:]) # remove google prefix"
   ]
  },
  {
   "cell_type": "markdown",
   "id": "527377ae",
   "metadata": {},
   "source": [
    "## Compilation\n",
    "\n",
    "The temporary file can then be read in by `bqskit`, and compiled.\n",
    "By default `bqskit` attempts to reduce the circuit depth as its primary optimization, and compiles into the following gateset: $\\{\\mathsf{U3}, \\mathsf{CNOT}, \\sqrt{X}, R_Z\\}$."
   ]
  },
  {
   "cell_type": "code",
   "execution_count": 5,
   "id": "5ff8f505",
   "metadata": {},
   "outputs": [],
   "source": [
    "bqs_circuit = bqskit.ir.Circuit.from_file('tmp.qasm')\n",
    "task = bqskit.compiler.CompilationTask.optimize(bqs_circuit)\n",
    "\n",
    "with bqskit.compiler.Compiler() as compiler:\n",
    "    compiled_bqs_circuit = compiler.compile(task)"
   ]
  },
  {
   "cell_type": "markdown",
   "id": "3b1615c6",
   "metadata": {},
   "source": [
    "Since `bqskit` uses a custom intermediate representation, we need to now convert this circuit to a form we can use for futher processing, and error mitigation. This can be done easily by writing the circuit back to QASM, which `cirq` can then read in."
   ]
  },
  {
   "cell_type": "code",
   "execution_count": 6,
   "id": "7691c697",
   "metadata": {},
   "outputs": [],
   "source": [
    "compiled_bqs_circuit.save('out.qasm')\n",
    "\n",
    "with open('out.qasm') as f:\n",
    "    qasm_out = f.read()\n",
    "    \n",
    "compiled_circuit = circuit_from_qasm(qasm_out)"
   ]
  },
  {
   "cell_type": "markdown",
   "id": "fdb85f8a",
   "metadata": {},
   "source": [
    "## Error Mitigation\n",
    "\n",
    "Now that we have a compiled circuit, we are ready to use `mitiq`'s error mitigation capabilities.\n",
    "In this tutorial we will use one of the simplest, and easiest to use methods: [Zero Noise Extrapolation](https://mitiq.readthedocs.io/en/stable/guide/zne-1-intro.html) (ZNE), but there are multiple other techniques described in our [user guide](https://mitiq.readthedocs.io/en/stable/guide/guide.html).\n",
    "\n",
    "To use this method, we need to define a function which takes as input a circuit, and returns some sort of expectation value, or probability. Here we will define a function `execute` which adds a tunable noise parameter, which controls the strength of our assumed two-qubit depolarizing noise model. Then a density matrix simulation is run, and we measure the probability of observing the system in the ground state(s)."
   ]
  },
  {
   "cell_type": "code",
   "execution_count": 7,
   "id": "a3917dc2",
   "metadata": {},
   "outputs": [],
   "source": [
    "def execute(circuit, noise_level=0.05):\n",
    "    noisy_circuit = cirq.Circuit()\n",
    "    for op in circuit.all_operations():\n",
    "        noisy_circuit.append(op)\n",
    "        if len(op.qubits) == 2:\n",
    "            noisy_circuit.append(cirq.depolarize(p=noise_level, n_qubits=2)(*op.qubits))\n",
    "    \n",
    "    rho = cirq.DensityMatrixSimulator().simulate(noisy_circuit).final_density_matrix\n",
    "    return rho[0, 0].real"
   ]
  },
  {
   "cell_type": "markdown",
   "id": "bfea61f7",
   "metadata": {},
   "source": [
    "Since we'd like to see how compilation effects error mitigation, we run the `execute` function on both the compiled, and random circuits, both with and without noise."
   ]
  },
  {
   "cell_type": "code",
   "execution_count": 8,
   "id": "0a9e794c",
   "metadata": {},
   "outputs": [],
   "source": [
    "uncompiled_ideal_value = execute(random_circuit, noise_level=0.0)\n",
    "uncompiled_noisy_value = execute(random_circuit)\n",
    "\n",
    "compiled_ideal_value = execute(compiled_circuit, noise_level=0.0)\n",
    "compiled_noisy_value = execute(compiled_circuit)"
   ]
  },
  {
   "cell_type": "markdown",
   "id": "f87bc7a0",
   "metadata": {},
   "source": [
    "We can now use ZNE --- on both the random, and compiled circuit --- to obtain the mitigated expectation values for these circuits."
   ]
  },
  {
   "cell_type": "code",
   "execution_count": 9,
   "id": "3d8f5cb9",
   "metadata": {},
   "outputs": [],
   "source": [
    "from mitiq import zne\n",
    "\n",
    "uncompiled_mitigated_result = zne.execute_with_zne(random_circuit, execute)\n",
    "compiled_mitigated_result = zne.execute_with_zne(compiled_circuit, execute)"
   ]
  },
  {
   "cell_type": "markdown",
   "id": "65242ae6",
   "metadata": {},
   "source": [
    "## Comparison\n",
    "\n",
    "These data are then summarized in the following output."
   ]
  },
  {
   "cell_type": "code",
   "execution_count": 10,
   "id": "ef1a7b08",
   "metadata": {},
   "outputs": [
    {
     "name": "stdout",
     "output_type": "stream",
     "text": [
      "            uncompiled      compiled  \n",
      "ideal        0.50            0.50      \n",
      "noisy        0.43            0.42      \n",
      "mitigated    0.33            0.53      \n",
      "error        0.17            0.03      \n",
      "depth        10              13        \n"
     ]
    }
   ],
   "source": [
    "header = \"{:<11} {:<15} {:<10}\"\n",
    "entry = \"{:<11}  {:<15.2f} {:<10.2f}\"\n",
    "int_entry = \"{:<11}  {:<15} {:<10}\"\n",
    "print(header.format(\"\", \"uncompiled\", \"compiled\"))\n",
    "print(entry.format(\"ideal\", uncompiled_ideal_value, compiled_ideal_value))\n",
    "print(entry.format(\"noisy\", uncompiled_noisy_value, compiled_noisy_value))\n",
    "print(entry.format(\"mitigated\", uncompiled_mitigated_result, compiled_mitigated_result))\n",
    "print(entry.format(\n",
    "    \"error\",\n",
    "    abs(uncompiled_ideal_value - uncompiled_mitigated_result),\n",
    "    abs(compiled_ideal_value - compiled_mitigated_result),\n",
    "))\n",
    "print(int_entry.format(\n",
    "    \"depth\",\n",
    "    len(random_circuit),\n",
    "    len(compiled_circuit),\n",
    "))"
   ]
  },
  {
   "cell_type": "markdown",
   "id": "619c30fb",
   "metadata": {},
   "source": [
    "Hence for this particular random circuit we see that using both compilation _and_ error mitigation combine for the most accurate result.\n",
    "Note that despite using BQSKit to compile the circuit, the depth has actually increased. \n",
    "This can occsionally happen when the random circuit contains gates that are harder to compile into BQSKit's default gateset.\n",
    "\n",
    "We can now wrap this code into a loop to get a better understanding of how errors change for the following four combinations of compilation and mitigation:\n",
    "\n",
    "| compiled | mitigated |\n",
    "| -------- | --------- |\n",
    "| ❌       | ❌         |\n",
    "| ❌       | ✅         |\n",
    "| ✅       | ❌         |\n",
    "| ✅       | ✅         |"
   ]
  },
  {
   "cell_type": "code",
   "execution_count": 88,
   "id": "5c6c294f",
   "metadata": {},
   "outputs": [
    {
     "name": "stderr",
     "output_type": "stream",
     "text": [
      " 46%|███████████████████████████████████████████▏                                                  | 92/200 [1:43:19<1:35:47, 53.22s/it]ERROR - Task was destroyed but it is pending!\n",
      "task: <Task pending name='Task-89138' coro=<Cluster._sync_cluster_info() done, defined at /Users/nate/opt/anaconda3/lib/python3.9/site-packages/distributed/deploy/cluster.py:104> wait_for=<Future pending cb=[<TaskWakeupMethWrapper object at 0x7fea56200fa0>()]> cb=[IOLoop.add_future.<locals>.<lambda>() at /Users/nate/opt/anaconda3/lib/python3.9/site-packages/tornado/ioloop.py:688]>\n",
      " 47%|████████████████████████████████████████████▏                                                 | 94/200 [1:46:35<2:02:15, 69.20s/it]ERROR - Task was destroyed but it is pending!\n",
      "task: <Task pending name='Task-89666' coro=<Cluster._sync_cluster_info() done, defined at /Users/nate/opt/anaconda3/lib/python3.9/site-packages/distributed/deploy/cluster.py:104> wait_for=<Future pending cb=[<TaskWakeupMethWrapper object at 0x7fea75739520>()]> cb=[IOLoop.add_future.<locals>.<lambda>() at /Users/nate/opt/anaconda3/lib/python3.9/site-packages/tornado/ioloop.py:688]>\n",
      " 48%|█████████████████████████████████████████████▌                                                | 97/200 [1:49:33<1:51:39, 65.04s/it]ERROR - Task was destroyed but it is pending!\n",
      "task: <Task pending name='Task-90945' coro=<Cluster._sync_cluster_info() done, defined at /Users/nate/opt/anaconda3/lib/python3.9/site-packages/distributed/deploy/cluster.py:104> wait_for=<Future pending cb=[<TaskWakeupMethWrapper object at 0x7fea758f8580>()]> cb=[IOLoop.add_future.<locals>.<lambda>() at /Users/nate/opt/anaconda3/lib/python3.9/site-packages/tornado/ioloop.py:688]>\n",
      " 50%|██████████████████████████████████████████████▌                                              | 100/200 [1:53:55<2:10:37, 78.37s/it]ERROR - Task was destroyed but it is pending!\n",
      "task: <Task pending name='Task-92129' coro=<Cluster._sync_cluster_info() done, defined at /Users/nate/opt/anaconda3/lib/python3.9/site-packages/distributed/deploy/cluster.py:104> wait_for=<Future pending cb=[<TaskWakeupMethWrapper object at 0x7fe9f2c33e20>()]> cb=[IOLoop.add_future.<locals>.<lambda>() at /Users/nate/opt/anaconda3/lib/python3.9/site-packages/tornado/ioloop.py:688]>\n",
      " 66%|███████████████████████████████████████████████████████████████▏                               | 133/200 [2:29:09<52:21, 46.89s/it]ERROR - Task was destroyed but it is pending!\n",
      "task: <Task pending name='Task-104288' coro=<Cluster._sync_cluster_info() done, defined at /Users/nate/opt/anaconda3/lib/python3.9/site-packages/distributed/deploy/cluster.py:104> wait_for=<Future pending cb=[<TaskWakeupMethWrapper object at 0x7fea762beb50>()]> cb=[IOLoop.add_future.<locals>.<lambda>() at /Users/nate/opt/anaconda3/lib/python3.9/site-packages/tornado/ioloop.py:688]>\n",
      " 82%|█████████████████████████████████████████████████████████████████████████████▍                 | 163/200 [2:55:23<28:04, 45.53s/it]ERROR - Task was destroyed but it is pending!\n",
      "task: <Task pending name='Task-114274' coro=<Cluster._sync_cluster_info() done, defined at /Users/nate/opt/anaconda3/lib/python3.9/site-packages/distributed/deploy/cluster.py:104> wait_for=<Future pending cb=[<TaskWakeupMethWrapper object at 0x7fe9f547a4c0>()]> cb=[IOLoop.add_future.<locals>.<lambda>() at /Users/nate/opt/anaconda3/lib/python3.9/site-packages/tornado/ioloop.py:688]>\n",
      " 82%|██████████████████████████████████████████████████████████████████████████████▍                | 165/200 [2:56:38<24:34, 42.12s/it]distributed.nanny - ERROR - Failed to start worker\n",
      "Traceback (most recent call last):\n",
      "  File \"/Users/nate/opt/anaconda3/lib/python3.9/site-packages/distributed/nanny.py\", line 889, in run\n",
      "    await worker\n",
      "  File \"/Users/nate/opt/anaconda3/lib/python3.9/site-packages/distributed/core.py\", line 279, in _\n",
      "    await self.start()\n",
      "  File \"/Users/nate/opt/anaconda3/lib/python3.9/site-packages/distributed/worker.py\", line 1383, in start\n",
      "    self.start_http_server(routes, self._dashboard_address)\n",
      "  File \"/Users/nate/opt/anaconda3/lib/python3.9/site-packages/distributed/node.py\", line 141, in start_http_server\n",
      "    self.http_server.listen(**tlz.merge(http_address, {\"port\": 0}))\n",
      "  File \"/Users/nate/opt/anaconda3/lib/python3.9/site-packages/tornado/tcpserver.py\", line 151, in listen\n",
      "    sockets = bind_sockets(port, address=address)\n",
      "  File \"/Users/nate/opt/anaconda3/lib/python3.9/site-packages/tornado/netutil.py\", line 161, in bind_sockets\n",
      "    sock.bind(sockaddr)\n",
      "OSError: [Errno 48] Address already in use\n",
      "distributed.nanny - ERROR - Failed while trying to start worker process: [Errno 48] Address already in use\n",
      "distributed.diskutils - INFO - Found stale lock file and directory '/Users/nate/code/dask-worker-space/worker-pqrq2ua7', purging\n",
      "ERROR - Task exception was never retrieved\n",
      "future: <Task finished name='Task-114605' coro=<_wrap_awaitable() done, defined at /Users/nate/opt/anaconda3/lib/python3.9/asyncio/tasks.py:684> exception=OSError(48, 'Address already in use')>\n",
      "Traceback (most recent call last):\n",
      "  File \"/Users/nate/opt/anaconda3/lib/python3.9/asyncio/tasks.py\", line 691, in _wrap_awaitable\n",
      "    return (yield from awaitable.__await__())\n",
      "  File \"/Users/nate/opt/anaconda3/lib/python3.9/site-packages/distributed/core.py\", line 279, in _\n",
      "    await self.start()\n",
      "  File \"/Users/nate/opt/anaconda3/lib/python3.9/site-packages/distributed/nanny.py\", line 338, in start\n",
      "    response = await self.instantiate()\n",
      "  File \"/Users/nate/opt/anaconda3/lib/python3.9/site-packages/distributed/nanny.py\", line 421, in instantiate\n",
      "    result = await self.process.start()\n",
      "  File \"/Users/nate/opt/anaconda3/lib/python3.9/site-packages/distributed/nanny.py\", line 698, in start\n",
      "    msg = await self._wait_until_connected(uid)\n",
      "  File \"/Users/nate/opt/anaconda3/lib/python3.9/site-packages/distributed/nanny.py\", line 817, in _wait_until_connected\n",
      "    raise msg[\"exception\"]\n",
      "  File \"/Users/nate/opt/anaconda3/lib/python3.9/site-packages/distributed/nanny.py\", line 889, in run\n",
      "    await worker\n",
      "  File \"/Users/nate/opt/anaconda3/lib/python3.9/site-packages/distributed/core.py\", line 279, in _\n",
      "    await self.start()\n",
      "  File \"/Users/nate/opt/anaconda3/lib/python3.9/site-packages/distributed/worker.py\", line 1383, in start\n",
      "    self.start_http_server(routes, self._dashboard_address)\n",
      "  File \"/Users/nate/opt/anaconda3/lib/python3.9/site-packages/distributed/node.py\", line 141, in start_http_server\n",
      "    self.http_server.listen(**tlz.merge(http_address, {\"port\": 0}))\n",
      "  File \"/Users/nate/opt/anaconda3/lib/python3.9/site-packages/tornado/tcpserver.py\", line 151, in listen\n",
      "    sockets = bind_sockets(port, address=address)\n",
      "  File \"/Users/nate/opt/anaconda3/lib/python3.9/site-packages/tornado/netutil.py\", line 161, in bind_sockets\n",
      "    sock.bind(sockaddr)\n",
      "OSError: [Errno 48] Address already in use\n",
      "100%|███████████████████████████████████████████████████████████████████████████████████████████████| 200/200 [3:34:38<00:00, 64.39s/it]\n"
     ]
    }
   ],
   "source": [
    "from tqdm import tqdm\n",
    "\n",
    "num_circuits = 200\n",
    "num_qubits = 4\n",
    "depth = 40\n",
    "\n",
    "ideal_uncompiled, ideal_compiled = [], []\n",
    "mitigated_uncompiled, mitigated_compiled = [], []\n",
    "unmitigated_uncompiled, unmitigated_compiled = [], []\n",
    "depths = []\n",
    "\n",
    "for i in tqdm(range(num_circuits)):\n",
    "    random_circuit = cirq.testing.random_circuit(num_qubits, depth, 1)\n",
    "    qasm_code = cirq.qasm(random_circuit)\n",
    "    with open(f'tmp{i}.qasm', 'w') as f:\n",
    "        f.write(qasm_code[31:])\n",
    "        \n",
    "    bqs_circuit = bqskit.ir.Circuit.from_file(f'tmp{i}.qasm')\n",
    "    task = bqskit.compiler.CompilationTask.optimize(bqs_circuit)\n",
    "    with bqskit.compiler.Compiler() as compiler:\n",
    "        optimized_circuit = compiler.compile(task)\n",
    "\n",
    "    optimized_circuit.save(f'out{i}.qasm')\n",
    "    with open(f'out{i}.qasm') as f:\n",
    "        qasm_out = f.read()\n",
    "    compiled_circuit = circuit_from_qasm(qasm_out)\n",
    "    \n",
    "    depths.append((len(random_circuit), len(compiled_circuit)))\n",
    "    \n",
    "    ideal_uncompiled.append(execute(random_circuit, noise_level=0.0))\n",
    "    ideal_compiled.append(execute(compiled_circuit, noise_level=0.0))\n",
    "    \n",
    "    unmitigated_uncompiled.append(execute(random_circuit))\n",
    "    unmitigated_compiled.append(execute(compiled_circuit))\n",
    "\n",
    "    mitigated_uncompiled.append(zne.execute_with_zne(random_circuit, execute))\n",
    "    mitigated_compiled.append(zne.execute_with_zne(compiled_circuit, execute))"
   ]
  },
  {
   "cell_type": "markdown",
   "id": "52162222",
   "metadata": {},
   "source": [
    "As a sanity check we ensure that the ideal values for the random circuit, and its compiled counterpart are equivalent up to $10^{-7}$."
   ]
  },
  {
   "cell_type": "code",
   "execution_count": 99,
   "id": "5bd775b0",
   "metadata": {},
   "outputs": [
    {
     "data": {
      "text/plain": [
       "True"
      ]
     },
     "execution_count": 99,
     "metadata": {},
     "output_type": "execute_result"
    }
   ],
   "source": [
    "np.allclose(ideal_uncompiled, ideal_compiled, atol=1e-7)"
   ]
  },
  {
   "cell_type": "markdown",
   "id": "ca98b61b",
   "metadata": {},
   "source": [
    "To see how compilation, and mitigation effect the overall accuracy of the measured observables, we calculate the errors."
   ]
  },
  {
   "cell_type": "code",
   "execution_count": 91,
   "id": "767360bc",
   "metadata": {},
   "outputs": [],
   "source": [
    "uncompiled_error, compiled_error = [], []\n",
    "uncompiled_unmitigated_error, compiled_unmitigated_error = [], []\n",
    "\n",
    "for ideal, uncompiled, compiled, noisy_uncompiled, noisy_compiled in zip(ideal_uncompiled, mitigated_uncompiled, mitigated_compiled, unmitigated_uncompiled, unmitigated_compiled):\n",
    "    uncompiled_error.append(abs(ideal - uncompiled))\n",
    "    compiled_error.append(abs(ideal - compiled))\n",
    "    uncompiled_unmitigated_error.append(abs(ideal - noisy_uncompiled))\n",
    "    compiled_unmitigated_error.append(abs(ideal - noisy_compiled))"
   ]
  },
  {
   "cell_type": "markdown",
   "id": "2e69d343",
   "metadata": {},
   "source": [
    "We can now histogram the errors to get a visual representation of the effect of these two operations."
   ]
  },
  {
   "cell_type": "code",
   "execution_count": 116,
   "id": "5b88d230",
   "metadata": {},
   "outputs": [
    {
     "data": {
      "image/png": "[encoded data removed]",
      "text/plain": [
       "<Figure size 432x288 with 2 Axes>"
      ]
     },
     "metadata": {
      "needs_background": "light"
     },
     "output_type": "display_data"
    }
   ],
   "source": [
    "import matplotlib.pyplot as plt\n",
    "\n",
    "fig, axs = plt.subplots(1, 2, sharey=True, sharex=True, tight_layout=True)\n",
    "bins = np.linspace(0, 0.4, 25)\n",
    "\n",
    "axs[0].hist(uncompiled_error, bins=bins, label=\"mitigated\", alpha=0.5)\n",
    "axs[0].hist(uncompiled_unmitigated_error, bins=bins, label=\"unmitigated\", alpha=0.5)\n",
    "\n",
    "axs[1].hist(compiled_error, bins=bins, label=\"mitigated\", alpha=0.5)\n",
    "axs[1].hist(compiled_unmitigated_error, bins=bins, label=\"unmitigated\", alpha=0.5)\n",
    "\n",
    "axs[0].set_xlabel('error')\n",
    "axs[1].set_xlabel('error')\n",
    "axs[0].set_ylabel('count')\n",
    "\n",
    "\n",
    "axs[0].set_title('Uncompiled')\n",
    "axs[1].set_title('Compiled')\n",
    "\n",
    "axs[0].legend()\n",
    "axs[1].legend();"
   ]
  },
  {
   "cell_type": "markdown",
   "id": "bee6cc06",
   "metadata": {},
   "source": [
    "The plot above shows that error mitigation helps in both cases: with uncompiled circuits and with compiled circuits.\n",
    "In fact, the mean of both histograms decreases when using error mitigation."
   ]
  },
  {
   "cell_type": "code",
   "execution_count": 111,
   "id": "dd8f8fc0",
   "metadata": {},
   "outputs": [
    {
     "data": {
      "text/plain": [
       "0.0137"
      ]
     },
     "execution_count": 111,
     "metadata": {},
     "output_type": "execute_result"
    }
   ],
   "source": [
    "round(np.array(compiled_unmitigated_error).mean() - np.array(compiled_error).mean(), 4)"
   ]
  },
  {
   "cell_type": "code",
   "execution_count": 112,
   "id": "d077e36a",
   "metadata": {
    "scrolled": true
   },
   "outputs": [
    {
     "data": {
      "text/plain": [
       "0.0101"
      ]
     },
     "execution_count": 112,
     "metadata": {},
     "output_type": "execute_result"
    }
   ],
   "source": [
    "round(np.array(compiled_unmitigated_error).std() - np.array(compiled_error).std(), 4)"
   ]
  },
  {
   "cell_type": "markdown",
   "id": "9afc1bae",
   "metadata": {},
   "source": [
    "In this tutorial we've seen how one can use error mitigation in conjunction with circuit compilation.\n",
    "For more information check out the [`bqskit`](https://bqskit.readthedocs.io/en/latest/) and [`mitiq`](https://mitiq.readthedocs.io/en/stable/) documentation."
   ]
  }
 ],
 "metadata": {
  "kernelspec": {
   "display_name": "Python 3 (ipykernel)",
   "language": "python",
   "name": "python3"
  },
  "language_info": {
   "codemirror_mode": {
    "name": "ipython",
    "version": 3
   },
   "file_extension": ".py",
   "mimetype": "text/x-python",
   "name": "python",
   "nbconvert_exporter": "python",
   "pygments_lexer": "ipython3",
   "version": "3.9.7"
  }
 },
 "nbformat": 4,
 "nbformat_minor": 5
}
