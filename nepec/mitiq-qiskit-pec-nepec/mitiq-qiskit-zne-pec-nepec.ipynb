{
 "cells": [
  {
   "cell_type": "markdown",
   "id": "3082ce11",
   "metadata": {},
   "source": [
    "# Using Mitiq with Qiskit quantum programs\n",
    "\n",
    "This notebook shows how to use Mitiq to mitigate errors in Qiskit quantum programs.\n",
    "\n",
    "The main sections are:\n",
    "* **Section 1: Computing quantum expectation values without error mitigation**\n",
    "* **Section 2: Applying zero-noise extrapolation (ZNE)**\n",
    "* **Section 3: Applying probabilistic error cancellation (PEC)**\n",
    "\n",
    "Useful links:\n",
    "* Qiskit repository: https://github.com/Qiskit/qiskit\n",
    "* Qiskit documentation: https://qiskit.org/documentation/\n",
    "* IBMQ portal: https://www.ibm.com/quantum-computing/\n",
    "\n",
    "\n",
    "* Mitiq repository: https://github.com/unitaryfund/mitiq\n",
    "* Mitiq documentation: https://mitiq.readthedocs.io/en/stable/\n",
    "* Mitiq white paper: https://mitiq.readthedocs.io/en/stable/\n",
    "* Unitary Fund:  https://unitary.fund"
   ]
  },
  {
   "cell_type": "markdown",
   "id": "7af03e38",
   "metadata": {},
   "source": [
    "This notebook requires the Python packages: `qiskit` and `mitiq`. If necessary, uncomment the next code cell to install them."
   ]
  },
  {
   "cell_type": "code",
   "execution_count": 32,
   "id": "998b1d4c",
   "metadata": {},
   "outputs": [],
   "source": [
    "# !pip install qiskit --quiet\n",
    "# !pip install mitiq --quiet"
   ]
  },
  {
   "cell_type": "code",
   "execution_count": 34,
   "id": "dde76e1d",
   "metadata": {},
   "outputs": [],
   "source": [
    "import warnings\n",
    "\n",
    "warnings.filterwarnings(action='ignore') # Optional warning filter"
   ]
  },
  {
   "cell_type": "markdown",
   "id": "8dfa0244",
   "metadata": {},
   "source": [
    "## Section 1: Computing quantum expectation values without error mitigation"
   ]
  },
  {
   "cell_type": "markdown",
   "id": "1cbc2fea",
   "metadata": {},
   "source": [
    "### Define the circuit of interest"
   ]
  },
  {
   "cell_type": "markdown",
   "id": "34fa0e70",
   "metadata": {},
   "source": [
    "We first define an arbitrary circuit of interest. For simplicity, in this example we use\n",
    "a two-qubit randomized-benchmarking circuit whose ideal execution is equivalent to the\n",
    "identity operation."
   ]
  },
  {
   "cell_type": "code",
   "execution_count": 3,
   "id": "08cc6fa0",
   "metadata": {},
   "outputs": [
    {
     "name": "stdout",
     "output_type": "stream",
     "text": [
      "Randomized benchmarking circuit with 211 gates generated.\n"
     ]
    }
   ],
   "source": [
    "import qiskit\n",
    "import qiskit.ignis.verification.randomized_benchmarking as rb\n",
    "from qiskit.transpiler.passes import RemoveBarriers, RemoveFinalMeasurements\n",
    "from mitiq.interface import convert_to_mitiq, convert_from_mitiq\n",
    "\n",
    "n_qubits = 2\n",
    "depth = 20\n",
    "\n",
    "qiskit_circuit = rb.randomized_benchmarking_seq(\n",
    "    length_vector=[depth], rb_pattern=[range(n_qubits)], group_gates=\"0\", rand_seed=1,\n",
    ")[0][0][0]\n",
    "\n",
    "# Remove Barriers\n",
    "qiskit_circuit=RemoveBarriers()(qiskit_circuit)\n",
    "# Remove Measurements\n",
    "qiskit_circuit=RemoveFinalMeasurements()(qiskit_circuit)\n",
    "# Double conversion trick to rename qubit register\n",
    "circuit = convert_from_mitiq(convert_to_mitiq(qiskit_circuit)[0], \"qiskit\")\n",
    "\n",
    "print(f\"Randomized benchmarking circuit with {len(circuit)} gates generated.\")\n",
    "#print(circuit)"
   ]
  },
  {
   "cell_type": "markdown",
   "id": "69a2a7a2",
   "metadata": {},
   "source": [
    "### Execute the circuit with an noisless backend"
   ]
  },
  {
   "cell_type": "code",
   "execution_count": 4,
   "id": "0ddc287b",
   "metadata": {},
   "outputs": [
    {
     "data": {
      "text/plain": [
       "1.0"
      ]
     },
     "execution_count": 4,
     "metadata": {},
     "output_type": "execute_result"
    }
   ],
   "source": [
    "# Set the number of shots \n",
    "shots = 10 ** 5\n",
    "\n",
    "# Initialize ideal backend (classical noiseless simulator)\n",
    "ideal_backend = qiskit.Aer.get_backend('aer_simulator')\n",
    "\n",
    "# Append measurements\n",
    "circuit_to_run = circuit.copy()\n",
    "circuit_to_run.measure_all()\n",
    "\n",
    "# Run and get count\n",
    "job = ideal_backend.run(circuit_to_run, shots=shots)\n",
    "counts = job.result().get_counts()\n",
    "\n",
    "# Expectation value of A=|00><00|\n",
    "ideal_value = counts[\"00\"] / shots\n",
    "ideal_value"
   ]
  },
  {
   "cell_type": "markdown",
   "id": "a09c730e",
   "metadata": {},
   "source": [
    "### Execute the circuit with an noisy backend (without error mitigation)"
   ]
  },
  {
   "cell_type": "code",
   "execution_count": 5,
   "id": "99745b98",
   "metadata": {},
   "outputs": [
    {
     "name": "stdout",
     "output_type": "stream",
     "text": [
      "Executing circuit with 211 gates using 100000 shots.\n"
     ]
    },
    {
     "data": {
      "text/plain": [
       "0.75298"
      ]
     },
     "execution_count": 5,
     "metadata": {},
     "output_type": "execute_result"
    }
   ],
   "source": [
    "from qiskit.test.mock import FakeLima\n",
    "from qiskit.providers.aer.noise import NoiseModel\n",
    "\n",
    "# Set the number of shots \n",
    "shots = 10 ** 5\n",
    "\n",
    "# Select a noisy backend\n",
    "# noisy_backend = qiskit.IBMQ.load_account().get_backend(\"ibmq_lima\")\n",
    "noisy_backend = FakeLima() # Simulator with noise model similar to \"ibmq_lima\"\n",
    "\n",
    "# Append measurements\n",
    "circuit_to_run = circuit.copy()\n",
    "circuit_to_run.measure_all()\n",
    "\n",
    "# Run and get counts\n",
    "print(f\"Executing circuit with {len(circuit)} gates using {shots} shots.\")\n",
    "job = noisy_backend.run(circuit_to_run, shots=shots)\n",
    "counts = job.result().get_counts()\n",
    "\n",
    "# Compute expectation value of the observable A=|0><0|\n",
    "noisy_value = counts[\"00\"] / shots\n",
    "noisy_value"
   ]
  },
  {
   "cell_type": "markdown",
   "id": "040c846e",
   "metadata": {},
   "source": [
    "## Section 2: Applying zero-noise extrapolation (ZNE)"
   ]
  },
  {
   "cell_type": "markdown",
   "id": "74fcd6bb",
   "metadata": {},
   "source": [
    "### Define an executor function"
   ]
  },
  {
   "cell_type": "markdown",
   "id": "ead870b3",
   "metadata": {},
   "source": [
    "We rewrite the last code cell of the previous section as a function that we call `executor`.\n",
    "This function takes as input a Qiskit circuit and returns the final noisy expectation value.\n",
    "\n",
    "Hint: It is usually better, but not necessary, to set `optimization_level=0` to avoid automatic circuit optimizations."
   ]
  },
  {
   "cell_type": "code",
   "execution_count": 6,
   "id": "4983991e",
   "metadata": {},
   "outputs": [],
   "source": [
    "def executor(circuit, shots=10 ** 5):\n",
    "    \"\"\"Executes the input circuit and returns the noisy expectation value.\n",
    "    \"\"\"\n",
    "    # Define a noise model \n",
    "    noisy_backend = FakeLima()\n",
    "    noise_model = NoiseModel.from_backend(noisy_backend)\n",
    "    \n",
    "    # Append measurements\n",
    "    circuit_to_run = circuit.copy()\n",
    "    circuit_to_run.measure_all()\n",
    "\n",
    "    # Run and get counts\n",
    "    print(f\"Executing circuit with {len(circuit)} gates using {shots} shots.\")\n",
    "    job = noisy_backend.run(circuit_to_run, shots=shots)\n",
    "    counts = job.result().get_counts()\n",
    "\n",
    "    # Compute expectation value of the observable A=|0><0|\n",
    "    noisy_value = counts[\"00\"] / shots\n",
    "    return noisy_value"
   ]
  },
  {
   "cell_type": "code",
   "execution_count": 7,
   "id": "b9f8a88e",
   "metadata": {},
   "outputs": [
    {
     "name": "stdout",
     "output_type": "stream",
     "text": [
      "Executing circuit with 211 gates using 100000 shots.\n"
     ]
    },
    {
     "data": {
      "text/plain": [
       "0.75785"
      ]
     },
     "execution_count": 7,
     "metadata": {},
     "output_type": "execute_result"
    }
   ],
   "source": [
    "noisy_value = executor(circuit)\n",
    "noisy_value"
   ]
  },
  {
   "cell_type": "markdown",
   "id": "e690d46d",
   "metadata": {},
   "source": [
    "### Run zero-noise extrapolation with Mitiq"
   ]
  },
  {
   "cell_type": "code",
   "execution_count": 26,
   "id": "a91fa091",
   "metadata": {},
   "outputs": [
    {
     "name": "stdout",
     "output_type": "stream",
     "text": [
      "Executing circuit with 211 gates using 100000 shots.\n",
      "Executing circuit with 423 gates using 100000 shots.\n",
      "Executing circuit with 633 gates using 100000 shots.\n",
      "Estimation error without Mitiq   : 0.24214999999999998\n",
      "Estimation error with Mitiq (ZNE): 0.010800000000000032\n"
     ]
    }
   ],
   "source": [
    "from mitiq import zne\n",
    "\n",
    "zne_value = zne.execute_with_zne(circuit, executor)\n",
    "\n",
    "unmitigated_error = abs(ideal_value - noisy_value)\n",
    "zne_error = abs(ideal_value - zne_value)\n",
    "print(f\"Estimation error without Mitiq   : {unmitigated_error}\")\n",
    "print(f\"Estimation error with Mitiq (ZNE): {zne_error}\")"
   ]
  },
  {
   "cell_type": "code",
   "execution_count": 28,
   "id": "5086b793",
   "metadata": {},
   "outputs": [
    {
     "name": "stdout",
     "output_type": "stream",
     "text": [
      "ZNE reduced the estimation error by 95.5%.\n"
     ]
    }
   ],
   "source": [
    "print(f\"ZNE reduced the estimation error by {(unmitigated_error - zne_error) / unmitigated_error :.1%}.\")"
   ]
  },
  {
   "cell_type": "markdown",
   "id": "cea183cb",
   "metadata": {},
   "source": [
    "Below we show how to select different options for zero-noise extrapolation."
   ]
  },
  {
   "cell_type": "markdown",
   "id": "312b6f16",
   "metadata": {},
   "source": [
    "### Select a noise scaling method"
   ]
  },
  {
   "cell_type": "code",
   "execution_count": 9,
   "id": "470404a0",
   "metadata": {},
   "outputs": [],
   "source": [
    "# Choise a unitary folding function\n",
    "noise_scaling_function = zne.scaling.fold_global"
   ]
  },
  {
   "cell_type": "markdown",
   "id": "aae5a860",
   "metadata": {},
   "source": [
    "Let's check the effect of the noise scaling function on the input circuit:"
   ]
  },
  {
   "cell_type": "code",
   "execution_count": 10,
   "id": "2c3a4473",
   "metadata": {},
   "outputs": [
    {
     "name": "stdout",
     "output_type": "stream",
     "text": [
      "The input circuit has 211 gates\n",
      "The scaled circuit has 423 gates\n"
     ]
    }
   ],
   "source": [
    "noise_scaled_circuit = noise_scaling_function(circuit, scale_factor=2)\n",
    "\n",
    "print(f\"The input circuit has {len(circuit)} gates\")\n",
    "print(f\"The scaled circuit has {len(noise_scaled_circuit)} gates\")"
   ]
  },
  {
   "cell_type": "markdown",
   "id": "23a43a69",
   "metadata": {},
   "source": [
    "### Select an extrapolation model"
   ]
  },
  {
   "cell_type": "code",
   "execution_count": 11,
   "id": "8beb0d1c",
   "metadata": {},
   "outputs": [],
   "source": [
    "factory = zne.inference.RichardsonFactory(scale_factors=[1, 2, 3, 4])\n",
    "\n",
    "# Examples:\n",
    "\n",
    "# Richardson extrapolation\n",
    "# factory = zne.inference.RichardsonFactory(scale_factors = [1, 2, 3])\n",
    "\n",
    "# Exponential extrapolation\n",
    "# factory = zne.inference.ExpFactory(scale_factors = [1, 2, 3], asymptote=0.25)\n",
    "\n",
    "# Exponential adaptive extrapolation\n",
    "# factory = zne.inference.AdaExpFactory(steps=10, asymptote=0.25)"
   ]
  },
  {
   "cell_type": "markdown",
   "id": "4ab33717",
   "metadata": {},
   "source": [
    "### Apply ZNE with non-default options"
   ]
  },
  {
   "cell_type": "code",
   "execution_count": 29,
   "id": "d124db13",
   "metadata": {},
   "outputs": [
    {
     "name": "stdout",
     "output_type": "stream",
     "text": [
      "Executing circuit with 211 gates using 100000 shots.\n",
      "Executing circuit with 423 gates using 100000 shots.\n",
      "Executing circuit with 633 gates using 100000 shots.\n",
      "Executing circuit with 845 gates using 100000 shots.\n",
      "Estimation error without Mitiq   : 0.24214999999999998\n",
      "Estimation error with Mitiq (ZNE): 0.005799999999998917\n"
     ]
    }
   ],
   "source": [
    "zne_value = zne.execute_with_zne(circuit, executor, scale_noise=noise_scaling_function, factory=factory)\n",
    "\n",
    "unmitigated_error = abs(ideal_value - noisy_value)\n",
    "zne_error = abs(ideal_value - zne_value)\n",
    "print(f\"Estimation error without Mitiq   : {unmitigated_error}\")\n",
    "print(f\"Estimation error with Mitiq (ZNE): {zne_error}\")"
   ]
  },
  {
   "cell_type": "code",
   "execution_count": 30,
   "id": "ac51836b",
   "metadata": {},
   "outputs": [
    {
     "name": "stdout",
     "output_type": "stream",
     "text": [
      "ZNE reduced the estimation error by 97.6%.\n"
     ]
    }
   ],
   "source": [
    "print(f\"ZNE reduced the estimation error by {(unmitigated_error - zne_error) / unmitigated_error :.1%}.\")"
   ]
  },
  {
   "cell_type": "markdown",
   "id": "bcacb14a",
   "metadata": {},
   "source": [
    "### Analize and visualize ZNE data "
   ]
  },
  {
   "cell_type": "code",
   "execution_count": 31,
   "id": "53fd7682",
   "metadata": {},
   "outputs": [
    {
     "data": {
      "image/png": "[encoded data removed]",
      "text/plain": [
       "<Figure size 504x360 with 1 Axes>"
      ]
     },
     "metadata": {
      "needs_background": "light"
     },
     "output_type": "display_data"
    }
   ],
   "source": [
    "_ = factory.plot_fit()"
   ]
  },
  {
   "cell_type": "code",
   "execution_count": 14,
   "id": "842f2c2c",
   "metadata": {},
   "outputs": [
    {
     "data": {
      "text/plain": [
       "array([0.75748, 0.59715, 0.50299, 0.42872])"
      ]
     },
     "execution_count": 14,
     "metadata": {},
     "output_type": "execute_result"
    }
   ],
   "source": [
    "factory.get_expectation_values()"
   ]
  },
  {
   "cell_type": "code",
   "execution_count": 15,
   "id": "08cafe55",
   "metadata": {},
   "outputs": [
    {
     "data": {
      "text/plain": [
       "array([1, 2, 3, 4])"
      ]
     },
     "execution_count": 15,
     "metadata": {},
     "output_type": "execute_result"
    }
   ],
   "source": [
    "factory.get_scale_factors()"
   ]
  },
  {
   "cell_type": "code",
   "execution_count": 16,
   "id": "529d6f6c",
   "metadata": {},
   "outputs": [
    {
     "data": {
      "text/plain": [
       "1.0302599999999984"
      ]
     },
     "execution_count": 16,
     "metadata": {},
     "output_type": "execute_result"
    }
   ],
   "source": [
    "factory.get_zero_noise_limit()"
   ]
  },
  {
   "cell_type": "markdown",
   "id": "fb5a0259",
   "metadata": {},
   "source": [
    "## Section 3:  Applying probabilistic error cancellation (PEC)"
   ]
  },
  {
   "cell_type": "code",
   "execution_count": 17,
   "id": "6546a06a",
   "metadata": {},
   "outputs": [],
   "source": [
    "from mitiq import pec"
   ]
  },
  {
   "cell_type": "markdown",
   "id": "73648b1a",
   "metadata": {},
   "source": [
    "### Build quasi-probability representation for CNOT gate"
   ]
  },
  {
   "cell_type": "markdown",
   "id": "665288f4",
   "metadata": {},
   "source": [
    "For simplicity, we assume that:\n",
    "    \n",
    "* Only CNOT gates are affected by noise;\n",
    "* The noise is depolarizing.\n",
    "\n",
    "Even within these assumptions, we still need to know how strong the noise is. A good approximation is the error probability of the CNOT gate."
   ]
  },
  {
   "cell_type": "code",
   "execution_count": 18,
   "id": "ec37a6fd",
   "metadata": {},
   "outputs": [
    {
     "data": {
      "text/plain": [
       "0.008339674869236618"
      ]
     },
     "execution_count": 18,
     "metadata": {},
     "output_type": "execute_result"
    }
   ],
   "source": [
    "# Print error probability of CNOT gate\n",
    "cnot_error_prob = noisy_backend.properties().gate_error(\"cx\", qubits=(0, 1))\n",
    "cnot_error_prob\n",
    "\n",
    "# print(qiskit.transpile(circuit, backend=noisy_backend))"
   ]
  },
  {
   "cell_type": "markdown",
   "id": "f218eaa0",
   "metadata": {},
   "source": [
    "Build a quasi-probability representation based on the previous assumptions."
   ]
  },
  {
   "cell_type": "code",
   "execution_count": 19,
   "id": "f179ab01",
   "metadata": {},
   "outputs": [
    {
     "name": "stdout",
     "output_type": "stream",
     "text": [
      "Quasi-probability representation with one-norm 1.01683 generated.\n"
     ]
    }
   ],
   "source": [
    "from mitiq.pec.representations.depolarizing import represent_operation_with_global_depolarizing_noise\n",
    "\n",
    "# Define ideal operation that we aim to represent\n",
    "cnot_circuit = qiskit.QuantumCircuit(qiskit.QuantumRegister(2, name=\"q\")) \n",
    "cnot_circuit.cx(0, 1)\n",
    "\n",
    "# Build representation\n",
    "cnot_rep = represent_operation_with_global_depolarizing_noise(cnot_circuit, noise_level=cnot_error_prob)\n",
    "\n",
    "print(f\"Quasi-probability representation with one-norm {cnot_rep.norm :g} generated.\")\n",
    "# print(cnot_rep)"
   ]
  },
  {
   "cell_type": "markdown",
   "id": "cec18e51",
   "metadata": {},
   "source": [
    "### Run PEC"
   ]
  },
  {
   "cell_type": "code",
   "execution_count": 20,
   "id": "13eda0f0",
   "metadata": {},
   "outputs": [
    {
     "name": "stdout",
     "output_type": "stream",
     "text": [
      "Executing circuit with 211 gates using 1000 shots.\n",
      "Executing circuit with 211 gates using 1000 shots.\n",
      "Executing circuit with 211 gates using 1000 shots.\n",
      "Executing circuit with 211 gates using 1000 shots.\n",
      "Executing circuit with 211 gates using 1000 shots.\n",
      "Executing circuit with 211 gates using 1000 shots.\n",
      "Executing circuit with 211 gates using 1000 shots.\n",
      "Executing circuit with 211 gates using 1000 shots.\n",
      "Executing circuit with 211 gates using 1000 shots.\n",
      "Executing circuit with 211 gates using 1000 shots.\n",
      "Executing circuit with 211 gates using 1000 shots.\n",
      "Executing circuit with 211 gates using 1000 shots.\n",
      "Executing circuit with 211 gates using 1000 shots.\n",
      "Executing circuit with 211 gates using 1000 shots.\n",
      "Executing circuit with 211 gates using 1000 shots.\n",
      "Executing circuit with 211 gates using 1000 shots.\n",
      "Executing circuit with 211 gates using 1000 shots.\n",
      "Executing circuit with 211 gates using 1000 shots.\n",
      "Executing circuit with 211 gates using 1000 shots.\n",
      "Executing circuit with 214 gates using 1000 shots.\n",
      "Executing circuit with 211 gates using 1000 shots.\n",
      "Executing circuit with 211 gates using 1000 shots.\n",
      "Executing circuit with 214 gates using 1000 shots.\n",
      "Executing circuit with 211 gates using 1000 shots.\n",
      "Executing circuit with 211 gates using 1000 shots.\n",
      "Executing circuit with 213 gates using 1000 shots.\n",
      "Executing circuit with 211 gates using 1000 shots.\n",
      "Executing circuit with 213 gates using 1000 shots.\n",
      "Executing circuit with 213 gates using 1000 shots.\n",
      "Executing circuit with 211 gates using 1000 shots.\n",
      "Executing circuit with 211 gates using 1000 shots.\n",
      "Executing circuit with 211 gates using 1000 shots.\n",
      "Executing circuit with 211 gates using 1000 shots.\n",
      "Executing circuit with 211 gates using 1000 shots.\n",
      "Executing circuit with 211 gates using 1000 shots.\n",
      "Executing circuit with 212 gates using 1000 shots.\n",
      "Executing circuit with 213 gates using 1000 shots.\n",
      "Executing circuit with 211 gates using 1000 shots.\n",
      "Executing circuit with 211 gates using 1000 shots.\n",
      "Executing circuit with 211 gates using 1000 shots.\n",
      "Executing circuit with 211 gates using 1000 shots.\n",
      "Executing circuit with 211 gates using 1000 shots.\n",
      "Executing circuit with 211 gates using 1000 shots.\n",
      "Executing circuit with 211 gates using 1000 shots.\n",
      "Executing circuit with 211 gates using 1000 shots.\n",
      "Executing circuit with 211 gates using 1000 shots.\n",
      "Executing circuit with 211 gates using 1000 shots.\n",
      "Executing circuit with 211 gates using 1000 shots.\n",
      "Executing circuit with 211 gates using 1000 shots.\n",
      "Executing circuit with 215 gates using 1000 shots.\n",
      "Executing circuit with 212 gates using 1000 shots.\n",
      "Executing circuit with 214 gates using 1000 shots.\n",
      "Executing circuit with 211 gates using 1000 shots.\n",
      "Executing circuit with 211 gates using 1000 shots.\n",
      "Executing circuit with 213 gates using 1000 shots.\n",
      "Executing circuit with 211 gates using 1000 shots.\n",
      "Executing circuit with 211 gates using 1000 shots.\n",
      "Executing circuit with 213 gates using 1000 shots.\n",
      "Executing circuit with 211 gates using 1000 shots.\n",
      "Executing circuit with 211 gates using 1000 shots.\n",
      "Executing circuit with 211 gates using 1000 shots.\n",
      "Executing circuit with 211 gates using 1000 shots.\n",
      "Executing circuit with 211 gates using 1000 shots.\n",
      "Executing circuit with 211 gates using 1000 shots.\n",
      "Executing circuit with 211 gates using 1000 shots.\n",
      "Executing circuit with 211 gates using 1000 shots.\n",
      "Executing circuit with 214 gates using 1000 shots.\n",
      "Executing circuit with 211 gates using 1000 shots.\n",
      "Executing circuit with 211 gates using 1000 shots.\n",
      "Executing circuit with 211 gates using 1000 shots.\n",
      "Executing circuit with 211 gates using 1000 shots.\n",
      "Executing circuit with 211 gates using 1000 shots.\n",
      "Executing circuit with 211 gates using 1000 shots.\n",
      "Executing circuit with 211 gates using 1000 shots.\n",
      "Executing circuit with 213 gates using 1000 shots.\n",
      "Executing circuit with 211 gates using 1000 shots.\n",
      "Executing circuit with 211 gates using 1000 shots.\n",
      "Executing circuit with 211 gates using 1000 shots.\n",
      "Executing circuit with 212 gates using 1000 shots.\n",
      "Executing circuit with 211 gates using 1000 shots.\n",
      "Executing circuit with 211 gates using 1000 shots.\n",
      "Executing circuit with 211 gates using 1000 shots.\n",
      "Executing circuit with 211 gates using 1000 shots.\n",
      "Executing circuit with 211 gates using 1000 shots.\n",
      "Executing circuit with 211 gates using 1000 shots.\n",
      "Executing circuit with 211 gates using 1000 shots.\n",
      "Executing circuit with 211 gates using 1000 shots.\n",
      "Executing circuit with 211 gates using 1000 shots.\n",
      "Executing circuit with 213 gates using 1000 shots.\n",
      "Executing circuit with 211 gates using 1000 shots.\n",
      "Executing circuit with 211 gates using 1000 shots.\n",
      "Executing circuit with 211 gates using 1000 shots.\n",
      "Executing circuit with 211 gates using 1000 shots.\n",
      "Executing circuit with 211 gates using 1000 shots.\n",
      "Executing circuit with 211 gates using 1000 shots.\n",
      "Executing circuit with 213 gates using 1000 shots.\n",
      "Executing circuit with 211 gates using 1000 shots.\n",
      "Executing circuit with 211 gates using 1000 shots.\n",
      "Executing circuit with 213 gates using 1000 shots.\n",
      "Executing circuit with 211 gates using 1000 shots.\n",
      "Estimation error without Mitiq   : 0.24214999999999998\n",
      "Estimation error with Mitiq (PEC): 0.005942808989844672\n"
     ]
    }
   ],
   "source": [
    "from functools import partial\n",
    "\n",
    "# Set number of probabilistically generated circuits\n",
    "num_samples = 100\n",
    "\n",
    "# Distribute budget of shots among all circuits\n",
    "shots_per_circuit = shots // num_samples\n",
    "pec_executor = partial(executor, shots=shots_per_circuit)\n",
    "\n",
    "# Run PEC\n",
    "pec_value = pec.execute_with_pec(\n",
    "    circuit, pec_executor, representations = [cnot_rep], num_samples=num_samples, random_state=0,\n",
    ")\n",
    "\n",
    "unmitigated_error = abs(ideal_value - noisy_value)\n",
    "pec_error = abs(ideal_value - pec_value)\n",
    "print(f\"Estimation error without Mitiq   : {unmitigated_error}\")\n",
    "print(f\"Estimation error with Mitiq (PEC): {pec_error}\")"
   ]
  },
  {
   "cell_type": "code",
   "execution_count": 21,
   "id": "5b898dbc",
   "metadata": {},
   "outputs": [
    {
     "name": "stdout",
     "output_type": "stream",
     "text": [
      "PEC reduced the estimation error by 97.5%.\n"
     ]
    }
   ],
   "source": [
    "print(f\"PEC reduced the estimation error by {(unmitigated_error - pec_error) / unmitigated_error :.1%}.\")"
   ]
  },
  {
   "cell_type": "markdown",
   "id": "e8663fe0",
   "metadata": {},
   "source": [
    "### Build a noise-agnostic quasi-probability representation for CNOT gate\n",
    "\n",
    "Instead of a assuming a depolarizing nose model with some given error rate, we now try to use a noise-agnostic representation based on the NEPEC framework introduced in  https://arxiv.org/abs/2108.02237 (Section V). \n",
    "More details can be found in the notebook at [this link](https://github.com/unitaryfund/research/blob/main/nepec/noise-agnostic-pec/noise_agnostic_pec.ipynb)."
   ]
  },
  {
   "cell_type": "code",
   "execution_count": 22,
   "id": "626b7a33",
   "metadata": {},
   "outputs": [],
   "source": [
    "from mitiq.pec import NoisyOperation, OperationRepresentation\n",
    "\n",
    "\n",
    "def get_richardson_coefficients(scale_factors):\n",
    "    \"\"\"Returns the array of Richardson extrapolation coefficients associated\n",
    "    to the input array of scale factors.\"\"\"\n",
    "    \n",
    "    # This is based on the Lagrange interpolation formula\n",
    "    richardson_coeffs = []\n",
    "    for l in scale_factors:\n",
    "        coeff = 1.0\n",
    "        for l_prime in scale_factors:\n",
    "            if l_prime == l:\n",
    "                continue\n",
    "            coeff *= l_prime / (l_prime - l)\n",
    "        richardson_coeffs.append(coeff)\n",
    "\n",
    "    return richardson_coeffs\n",
    "\n",
    "def represent_operation_with_nepec(ideal_operation, scale_factors):\n",
    "    \"\"\"Returns the OperationRepresentation contructed by noise scaling and extrapolation.\"\"\"\n",
    "    \n",
    "    coeffs = get_richardson_coefficients(scale_factors)\n",
    "    \n",
    "    basis_expansion = {}\n",
    "    for scale_factor, coeff in zip(scale_factors, coeffs):\n",
    "        scaled_op = NoisyOperation(noise_scaling_function(ideal_operation, scale_factor))\n",
    "        basis_expansion[scaled_op] = coeff\n",
    "    \n",
    "    return OperationRepresentation(ideal_operation, basis_expansion)"
   ]
  },
  {
   "cell_type": "code",
   "execution_count": 23,
   "id": "58af1ecd",
   "metadata": {},
   "outputs": [
    {
     "name": "stdout",
     "output_type": "stream",
     "text": [
      "NEPEC quasi-probability representation with one-norm 1.02 generated.\n",
      "q_0: ───@───\n",
      "        │\n",
      "q_1: ───X─── = \n",
      "\n",
      "1.010\n",
      "q_0: ───@───\n",
      "        │\n",
      "q_1: ───X───\n",
      "\n",
      "-0.010\n",
      "q_0: ───@───@───@───@───@───@───@───@───@───@───@───@───@───@───@───@───@───@───@───@───@───@───@───@───@───@───@───@───@───@───@───@───@───@───@───@───@───@───@───@───@───@───@───@───@───@───@───@───@───@───@───@───@───@───@───@───@───@───@───@───@───@───@───@───@───@───@───@───@───@───@───@───@───@───@───@───@───@───@───@───@───@───@───@───@───@───@───@───@───@───@───@───@───@───@───@───@───@───@───@───@───\n",
      "        │   │   │   │   │   │   │   │   │   │   │   │   │   │   │   │   │   │   │   │   │   │   │   │   │   │   │   │   │   │   │   │   │   │   │   │   │   │   │   │   │   │   │   │   │   │   │   │   │   │   │   │   │   │   │   │   │   │   │   │   │   │   │   │   │   │   │   │   │   │   │   │   │   │   │   │   │   │   │   │   │   │   │   │   │   │   │   │   │   │   │   │   │   │   │   │   │   │   │   │   │\n",
      "q_1: ───X───X───X───X───X───X───X───X───X───X───X───X───X───X───X───X───X───X───X───X───X───X───X───X───X───X───X───X───X───X───X───X───X───X───X───X───X───X───X───X───X───X───X───X───X───X───X───X───X───X───X───X───X───X───X───X───X───X───X───X───X───X───X───X───X───X───X───X───X───X───X───X───X───X───X───X───X───X───X───X───X───X───X───X───X───X───X───X───X───X───X───X───X───X───X───X───X───X───X───X───X───\n"
     ]
    }
   ],
   "source": [
    "scale_factors = [1, 101]  # Large scale factors reduce the PEC sampling cost.\n",
    "#scale_factors = [1, 2, 3]\n",
    "\n",
    "agn_rep = represent_operation_with_nepec(cnot_circuit, scale_factors)\n",
    "print(f\"NEPEC quasi-probability representation with one-norm {agn_rep.norm :g} generated.\")\n",
    "print(agn_rep)"
   ]
  },
  {
   "cell_type": "markdown",
   "id": "cc636d4d",
   "metadata": {},
   "source": [
    "### Run NEPEC (noise-extended PEC)"
   ]
  },
  {
   "cell_type": "code",
   "execution_count": 24,
   "id": "18e477bb",
   "metadata": {},
   "outputs": [
    {
     "name": "stdout",
     "output_type": "stream",
     "text": [
      "Executing circuit with 211 gates using 1000 shots.\n",
      "Executing circuit with 211 gates using 1000 shots.\n",
      "Executing circuit with 211 gates using 1000 shots.\n",
      "Executing circuit with 211 gates using 1000 shots.\n",
      "Executing circuit with 411 gates using 1000 shots.\n",
      "Executing circuit with 211 gates using 1000 shots.\n",
      "Executing circuit with 211 gates using 1000 shots.\n",
      "Executing circuit with 211 gates using 1000 shots.\n",
      "Executing circuit with 211 gates using 1000 shots.\n",
      "Executing circuit with 211 gates using 1000 shots.\n",
      "Executing circuit with 311 gates using 1000 shots.\n",
      "Executing circuit with 211 gates using 1000 shots.\n",
      "Executing circuit with 211 gates using 1000 shots.\n",
      "Executing circuit with 211 gates using 1000 shots.\n",
      "Executing circuit with 211 gates using 1000 shots.\n",
      "Executing circuit with 211 gates using 1000 shots.\n",
      "Executing circuit with 211 gates using 1000 shots.\n",
      "Executing circuit with 211 gates using 1000 shots.\n",
      "Executing circuit with 211 gates using 1000 shots.\n",
      "Executing circuit with 411 gates using 1000 shots.\n",
      "Executing circuit with 211 gates using 1000 shots.\n",
      "Executing circuit with 311 gates using 1000 shots.\n",
      "Executing circuit with 511 gates using 1000 shots.\n",
      "Executing circuit with 211 gates using 1000 shots.\n",
      "Executing circuit with 211 gates using 1000 shots.\n",
      "Executing circuit with 311 gates using 1000 shots.\n",
      "Executing circuit with 211 gates using 1000 shots.\n",
      "Executing circuit with 311 gates using 1000 shots.\n",
      "Executing circuit with 311 gates using 1000 shots.\n",
      "Executing circuit with 211 gates using 1000 shots.\n",
      "Executing circuit with 211 gates using 1000 shots.\n",
      "Executing circuit with 211 gates using 1000 shots.\n",
      "Executing circuit with 211 gates using 1000 shots.\n",
      "Executing circuit with 211 gates using 1000 shots.\n",
      "Executing circuit with 311 gates using 1000 shots.\n",
      "Executing circuit with 311 gates using 1000 shots.\n",
      "Executing circuit with 311 gates using 1000 shots.\n",
      "Executing circuit with 211 gates using 1000 shots.\n",
      "Executing circuit with 211 gates using 1000 shots.\n",
      "Executing circuit with 211 gates using 1000 shots.\n",
      "Executing circuit with 211 gates using 1000 shots.\n",
      "Executing circuit with 211 gates using 1000 shots.\n",
      "Executing circuit with 211 gates using 1000 shots.\n",
      "Executing circuit with 211 gates using 1000 shots.\n",
      "Executing circuit with 211 gates using 1000 shots.\n",
      "Executing circuit with 211 gates using 1000 shots.\n",
      "Executing circuit with 211 gates using 1000 shots.\n",
      "Executing circuit with 211 gates using 1000 shots.\n",
      "Executing circuit with 211 gates using 1000 shots.\n",
      "Executing circuit with 411 gates using 1000 shots.\n",
      "Executing circuit with 311 gates using 1000 shots.\n",
      "Executing circuit with 411 gates using 1000 shots.\n",
      "Executing circuit with 211 gates using 1000 shots.\n",
      "Executing circuit with 211 gates using 1000 shots.\n",
      "Executing circuit with 311 gates using 1000 shots.\n",
      "Executing circuit with 211 gates using 1000 shots.\n",
      "Executing circuit with 211 gates using 1000 shots.\n",
      "Executing circuit with 311 gates using 1000 shots.\n",
      "Executing circuit with 211 gates using 1000 shots.\n",
      "Executing circuit with 211 gates using 1000 shots.\n",
      "Executing circuit with 211 gates using 1000 shots.\n",
      "Executing circuit with 211 gates using 1000 shots.\n",
      "Executing circuit with 211 gates using 1000 shots.\n",
      "Executing circuit with 211 gates using 1000 shots.\n",
      "Executing circuit with 211 gates using 1000 shots.\n",
      "Executing circuit with 211 gates using 1000 shots.\n",
      "Executing circuit with 411 gates using 1000 shots.\n",
      "Executing circuit with 211 gates using 1000 shots.\n",
      "Executing circuit with 211 gates using 1000 shots.\n",
      "Executing circuit with 211 gates using 1000 shots.\n",
      "Executing circuit with 211 gates using 1000 shots.\n",
      "Executing circuit with 211 gates using 1000 shots.\n",
      "Executing circuit with 211 gates using 1000 shots.\n",
      "Executing circuit with 211 gates using 1000 shots.\n",
      "Executing circuit with 311 gates using 1000 shots.\n",
      "Executing circuit with 211 gates using 1000 shots.\n",
      "Executing circuit with 211 gates using 1000 shots.\n",
      "Executing circuit with 211 gates using 1000 shots.\n",
      "Executing circuit with 311 gates using 1000 shots.\n",
      "Executing circuit with 211 gates using 1000 shots.\n",
      "Executing circuit with 211 gates using 1000 shots.\n",
      "Executing circuit with 211 gates using 1000 shots.\n",
      "Executing circuit with 211 gates using 1000 shots.\n",
      "Executing circuit with 211 gates using 1000 shots.\n",
      "Executing circuit with 211 gates using 1000 shots.\n",
      "Executing circuit with 211 gates using 1000 shots.\n",
      "Executing circuit with 211 gates using 1000 shots.\n",
      "Executing circuit with 211 gates using 1000 shots.\n",
      "Executing circuit with 311 gates using 1000 shots.\n",
      "Executing circuit with 211 gates using 1000 shots.\n",
      "Executing circuit with 211 gates using 1000 shots.\n",
      "Executing circuit with 211 gates using 1000 shots.\n",
      "Executing circuit with 211 gates using 1000 shots.\n",
      "Executing circuit with 211 gates using 1000 shots.\n",
      "Executing circuit with 211 gates using 1000 shots.\n",
      "Executing circuit with 311 gates using 1000 shots.\n",
      "Executing circuit with 211 gates using 1000 shots.\n",
      "Executing circuit with 211 gates using 1000 shots.\n",
      "Executing circuit with 311 gates using 1000 shots.\n",
      "Executing circuit with 211 gates using 1000 shots.\n",
      "Estimation error without Mitiq     : 0.24214999999999998\n",
      "Estimation error with Mitiq (NEPEC): 0.007142722173229976\n"
     ]
    }
   ],
   "source": [
    "nepec_value = pec.execute_with_pec(\n",
    "    circuit, pec_executor, representations = [agn_rep], num_samples=num_samples, random_state=0,\n",
    ")\n",
    "\n",
    "unmitigated_error = abs(ideal_value - noisy_value)\n",
    "nepec_error = abs(ideal_value - nepec_value)\n",
    "print(f\"Estimation error without Mitiq     : {unmitigated_error}\")\n",
    "print(f\"Estimation error with Mitiq (NEPEC): {nepec_error}\")"
   ]
  },
  {
   "cell_type": "code",
   "execution_count": 25,
   "id": "70bf4186",
   "metadata": {},
   "outputs": [
    {
     "name": "stdout",
     "output_type": "stream",
     "text": [
      "NEPEC reduced the estimation error by 97.1%.\n"
     ]
    }
   ],
   "source": [
    "print(f\"NEPEC reduced the estimation error by {(unmitigated_error - nepec_error) / unmitigated_error :.1%}.\")"
   ]
  }
 ],
 "metadata": {
  "jupytext": {
   "text_representation": {
    "extension": ".myst",
    "format_name": "myst",
    "format_version": 0.13,
    "jupytext_version": "1.11.1"
   }
  },
  "kernelspec": {
   "display_name": "Python 3",
   "language": "python",
   "name": "python3"
  },
  "language_info": {
   "codemirror_mode": {
    "name": "ipython",
    "version": 3
   },
   "file_extension": ".py",
   "mimetype": "text/x-python",
   "name": "python",
   "nbconvert_exporter": "python",
   "pygments_lexer": "ipython3",
   "version": "3.7.7"
  }
 },
 "nbformat": 4,
 "nbformat_minor": 5
}
